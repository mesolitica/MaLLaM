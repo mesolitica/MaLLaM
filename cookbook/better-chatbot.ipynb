{
 "cells": [
  {
   "cell_type": "code",
   "execution_count": 1,
   "id": "41e26c97",
   "metadata": {},
   "outputs": [],
   "source": [
    "import os\n",
    "from openai import OpenAI\n",
    "\n",
    "# get your api key at https://app.nous.mesolitica.com/\n",
    "\n",
    "os.environ['OPENAI_API_KEY'] = ''\n",
    "\n",
    "client = OpenAI(\n",
    "    base_url=\"https://llm-router.nous.mesolitica.com\",\n",
    ")"
   ]
  },
  {
   "cell_type": "markdown",
   "id": "b8bc991f",
   "metadata": {},
   "source": [
    "## System prompt\n",
    "\n",
    "system prompt is very helpful to make your chatbot less hallucinate and give better answers.\n",
    "\n",
    "Let us compare results using system prompt with results not using system prompt."
   ]
  },
  {
   "cell_type": "code",
   "execution_count": 10,
   "id": "fb79ae48",
   "metadata": {},
   "outputs": [
    {
     "data": {
      "text/plain": [
       "'{\"name\": \"KG\", \"arguments\": {\"triplets\": [{\"subject\": \"Kerajaan\", \"predicate\": \"berita\", \"object\": \"tentang\"}]}}'"
      ]
     },
     "execution_count": 10,
     "metadata": {},
     "output_type": "execute_result"
    }
   ],
   "source": [
    "response = client.chat.completions.create(\n",
    "    model=\"mallam-small\",\n",
    "    temperature=0.1,\n",
    "    max_tokens=1024,\n",
    "    messages=[\n",
    "    {\n",
    "        \"role\": \"user\",\n",
    "        \"content\": \"nak berita tentnag kerajaan\"\n",
    "    }\n",
    "],\n",
    ")\n",
    "response.choices[0].message.content"
   ]
  },
  {
   "cell_type": "code",
   "execution_count": 11,
   "id": "a0f30e04",
   "metadata": {},
   "outputs": [
    {
     "data": {
      "text/plain": [
       "'Saya memohon maaf, tetapi saya memerlukan lebih banyak konteks untuk memberikan respons yang tepat. Bolehkah anda nyatakan kerajaan yang anda ingin saya berikan maklumat? Adakah ia kerajaan negara, tempatan atau antarabangsa?'"
      ]
     },
     "execution_count": 11,
     "metadata": {},
     "output_type": "execute_result"
    }
   ],
   "source": [
    "response = client.chat.completions.create(\n",
    "    model=\"mallam-small\",\n",
    "    temperature=0.1,\n",
    "    max_tokens=1024,\n",
    "    messages=[\n",
    "    {\n",
    "        'role': 'system',\n",
    "        'content': 'Anda adalah chatbot yang berguna dan jawapan anda haruslah tepat.'\n",
    "    },\n",
    "    {\n",
    "        \"role\": \"user\",\n",
    "        \"content\": \"nak berita tentnag kerajaan\"\n",
    "    }\n",
    "],\n",
    ")\n",
    "response.choices[0].message.content"
   ]
  },
  {
   "cell_type": "markdown",
   "id": "8d10c820",
   "metadata": {},
   "source": [
    "As you can see, without system prompt, the chatbot generated weird text related to triplets format. **We will solved this as soon as possible, but for now, you can use system prompt**.\n",
    "\n",
    "This is related to the model alignment, basically we need to give proper feedback to align the models with the appropriate answers."
   ]
  },
  {
   "cell_type": "code",
   "execution_count": null,
   "id": "2b3dc78c",
   "metadata": {},
   "outputs": [],
   "source": []
  }
 ],
 "metadata": {
  "kernelspec": {
   "display_name": "Python 3 (ipykernel)",
   "language": "python",
   "name": "python3"
  },
  "language_info": {
   "codemirror_mode": {
    "name": "ipython",
    "version": 3
   },
   "file_extension": ".py",
   "mimetype": "text/x-python",
   "name": "python",
   "nbconvert_exporter": "python",
   "pygments_lexer": "ipython3",
   "version": "3.8.10"
  }
 },
 "nbformat": 4,
 "nbformat_minor": 5
}
